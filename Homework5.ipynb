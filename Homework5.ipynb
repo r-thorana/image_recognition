{
  "nbformat": 4,
  "nbformat_minor": 0,
  "metadata": {
    "accelerator": "GPU",
    "colab": {
      "name": "Homework5.ipynb",
      "provenance": [],
      "collapsed_sections": []
    },
    "kernelspec": {
      "display_name": "Python 3",
      "name": "python3"
    }
  },
  "cells": [
    {
      "cell_type": "markdown",
      "metadata": {
        "id": "c6LBFzm1leqm"
      },
      "source": [
        "# Assignment 5\n",
        "\n",
        "This is an basecode for assignment 5 of Artificial Intelligence class (CSCE-4613), Fall 2020"
      ]
    },
    {
      "cell_type": "code",
      "metadata": {
        "id": "7FZiPdHMXrXW"
      },
      "source": [
        "import torch\n",
        "import torchvision\n",
        "import torch.nn as nn\n",
        "from torchvision import transforms\n",
        "\n",
        "from PIL import Image\n",
        "import pickle\n",
        "import matplotlib.pyplot as plt"
      ],
      "execution_count": null,
      "outputs": []
    },
    {
      "cell_type": "markdown",
      "metadata": {
        "id": "Tq4-TaMPlzZH"
      },
      "source": [
        "## Question 1\n",
        "### Define Input Transformation"
      ]
    },
    {
      "cell_type": "code",
      "metadata": {
        "id": "uTUgpQCjY6Hu"
      },
      "source": [
        "MEAN = [0.485, 0.456, 0.406]\n",
        "STD = [0.229, 0.224, 0.225]\n",
        "IMAGE_SIZE = 224\n",
        "image_transforms = transforms.Compose([\n",
        "                           transforms.Resize(IMAGE_SIZE),\n",
        "                           transforms.CenterCrop(IMAGE_SIZE),\n",
        "                           transforms.ToTensor(),\n",
        "                           transforms.Normalize(mean = MEAN, std = STD)])\n",
        "\n",
        "index2name = pickle.load(open(\"imagenet_class_names.pkl\", \"rb\"))\n"
      ],
      "execution_count": 11,
      "outputs": []
    },
    {
      "cell_type": "markdown",
      "metadata": {
        "id": "osD7Ybmnl3LU"
      },
      "source": [
        "### Define Model"
      ]
    },
    {
      "cell_type": "code",
      "metadata": {
        "id": "ayOl5jqfZBcD"
      },
      "source": [
        "model = torchvision.models.resnet50(pretrained=True)\n",
        "softmax_layer = nn.Softmax(dim=1)\n",
        "model.eval()"
      ],
      "execution_count": null,
      "outputs": []
    },
    {
      "cell_type": "markdown",
      "metadata": {
        "id": "mn-nZTOfl9EY"
      },
      "source": [
        "### Classify and Visualize Image"
      ]
    },
    {
      "cell_type": "code",
      "metadata": {
        "id": "ZSU-33PsZphU"
      },
      "source": [
        "image_path = \"dog.jpg\"\n",
        "original_image = Image.open(image_path).convert(\"RGB\")\n",
        "image = image_transforms(original_image)\n",
        "image = image.unsqueeze(0)\n",
        "output = softmax_layer(model(image))\n",
        "\n",
        "prediction = torch.argmax(output, dim=1).item()\n",
        "prob = output[0, prediction].item() * 100\n",
        "predicted_name = index2name[prediction]\n",
        "\n",
        "plt.imshow(original_image)\n",
        "plt.title(\"Class: %s. Probabilty: %.2f\" % (predicted_name, prob) + \"%\")\n",
        "plt.axis(\"off\")\n",
        "plt.show()"
      ],
      "execution_count": null,
      "outputs": []
    },
    {
      "cell_type": "markdown",
      "metadata": {
        "id": "tsYBV7BUmAWa"
      },
      "source": [
        "### Get Top-K Predictions"
      ]
    },
    {
      "cell_type": "code",
      "metadata": {
        "id": "rs9g8RZRZ2e9"
      },
      "source": [
        "K = 5\n",
        "indices = torch.argsort(output, dim = 1, descending=True)\n",
        "for i in range(0, K):\n",
        "  prob = output[0, indices[0, i].item()].item() * 100\n",
        "  predicted_name = index2name[indices[0, i].item()]\n",
        "  print(\"%d-th. Class: %s. Probabilty: %0.2f\" % (i + 1, predicted_name, prob) + \"%\")"
      ],
      "execution_count": null,
      "outputs": []
    },
    {
      "cell_type": "markdown",
      "metadata": {
        "id": "bagn0hIFmDn2"
      },
      "source": [
        "## Question 2\n",
        "\n",
        "### Define Training Data Loader"
      ]
    },
    {
      "cell_type": "code",
      "metadata": {
        "id": "UtRo4-cNkzU1"
      },
      "source": [
        "train_batch_size = 32\n",
        "train_dataset = torchvision.datasets.CIFAR10(root = \"data/CIFAR-10\",\n",
        "                                             train = True,\n",
        "                                             transform = transforms.ToTensor(),\n",
        "                                             download = True)\n",
        "train_loader = torch.utils.data.DataLoader(train_dataset,\n",
        "                                           batch_size = train_batch_size,\n",
        "                                           shuffle = True)"
      ],
      "execution_count": null,
      "outputs": []
    },
    {
      "cell_type": "markdown",
      "metadata": {
        "id": "sMdeg0f5qfWb"
      },
      "source": [
        "### Define Model and Training Framework"
      ]
    },
    {
      "cell_type": "code",
      "metadata": {
        "id": "gvUiX2SKmw-Y"
      },
      "source": [
        "cuda = torch.cuda.is_available()\n",
        "model = torchvision.models.resnet18(pretrained=False, num_classes = 10)\n",
        "if cuda:\n",
        "  model.cuda()\n",
        "\n",
        "model.train()\n",
        "learning_rate = 0.001\n",
        "num_epochs = 1\n",
        "optim = torch.optim.Adam(model.parameters(), lr = learning_rate)\n",
        "loss_fn = nn.CrossEntropyLoss()\n",
        "loss_logger = []\n",
        "accuracy_logger = []\n",
        "\n",
        "for epoch in range(1, num_epochs + 1):\n",
        "  for it, (images, labels) in enumerate(train_loader):\n",
        "      if cuda:\n",
        "        images = images.cuda()\n",
        "        labels = labels.cuda()\n",
        "\n",
        "      outputs = model(images)\n",
        "      predictions = torch.argmax(outputs, dim=1)\n",
        "      accuracy = (predictions == labels).float().mean() * 100\n",
        "      loss = loss_fn(outputs, labels)\n",
        "      \n",
        "      optim.zero_grad()\n",
        "      loss.backward()\n",
        "      optim.step()\n",
        "\n",
        "      loss = loss.item()\n",
        "      accuracy = accuracy.item()\n",
        "      \n",
        "      loss_logger.append(loss)\n",
        "      accuracy_logger.append(accuracy)\n",
        "\n",
        "      if it % 200 == 0:\n",
        "        print(\"Epoch [%d/%d]. Iter [%d/%d]. Loss: %0.4f. Accuracy: %.2f\" % (epoch, num_epochs, it + 1, len(train_loader), loss, accuracy))\n",
        "\n",
        "torch.save(model.state_dict(), \"CIFAR10-ResNet18.pth\")\n",
        "\n",
        "plt.figure()\n",
        "plt.plot(loss_logger)\n",
        "plt.title(\"Training Losses\")\n",
        "plt.show()\n",
        "\n",
        "plt.figure()\n",
        "plt.plot(accuracy_logger)\n",
        "plt.title(\"Training Accuracies\")\n",
        "plt.show()"
      ],
      "execution_count": null,
      "outputs": []
    },
    {
      "cell_type": "markdown",
      "metadata": {
        "id": "iTrAJ9kgqioB"
      },
      "source": [
        "### Load Model and Evaluate Model On Testing Dataset"
      ]
    },
    {
      "cell_type": "code",
      "metadata": {
        "id": "WXSgU1YjnjM4"
      },
      "source": [
        "cuda = torch.cuda.is_available()\n",
        "model = torchvision.models.resnet18(pretrained=False, num_classes = 10)\n",
        "if cuda:\n",
        "  model.cuda()\n",
        "\n",
        "model.load_state_dict(torch.load(\"CIFAR10-ResNet18.pth\"))\n",
        "model.eval()\n",
        "\n",
        "test_dataset = torchvision.datasets.CIFAR10(root = \"data/CIFAR-10\",\n",
        "                                             train = False,\n",
        "                                             transform = transforms.ToTensor(),\n",
        "                                             download = True)\n",
        "test_loader = torch.utils.data.DataLoader(test_dataset,\n",
        "                                           batch_size = 1,\n",
        "                                           shuffle = True)\n",
        "\n",
        "final_accuracy = 0.0\n",
        "for it, (images, labels) in enumerate(test_loader):\n",
        "  if cuda:\n",
        "    images = images.cuda()\n",
        "    labels = labels.cuda()\n",
        "\n",
        "  outputs = model(images)\n",
        "  predictions = torch.argmax(outputs, dim=1)\n",
        "  accuracy = (predictions == labels).float().mean() * 100\n",
        "  \n",
        "  accuracy = accuracy.item()\n",
        "  final_accuracy += accuracy\n",
        "  if it % 500 == 0:\n",
        "    print(\"Iter [%d/%d]. Accuracy: %.2f\" % (it + 1, len(test_loader), accuracy))\n",
        "\n",
        "print(\"Final Accuracy: %0.2f\" % (final_accuracy / len(test_loader)))"
      ],
      "execution_count": null,
      "outputs": []
    },
    {
      "cell_type": "code",
      "metadata": {
        "id": "fkgQ1Rmtp76N"
      },
      "source": [
        ""
      ],
      "execution_count": null,
      "outputs": []
    }
  ]
}